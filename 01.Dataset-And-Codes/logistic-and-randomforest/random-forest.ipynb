{
 "cells": [
  {
   "cell_type": "markdown",
   "metadata": {},
   "source": [
    "### Generate Embeddings"
   ]
  },
  {
   "cell_type": "code",
   "execution_count": 1,
   "metadata": {},
   "outputs": [
    {
     "name": "stdout",
     "output_type": "stream",
     "text": [
      "Embeddings saved successfully.\n"
     ]
    }
   ],
   "source": [
    "import torch\n",
    "import torch.nn.functional as F\n",
    "from torch_geometric.nn import GCNConv\n",
    "from torch_geometric.datasets import Planetoid\n",
    "import numpy as np\n",
    "\n",
    "# Load dataset\n",
    "dataset = Planetoid(root='../data', name='Cora')\n",
    "data = dataset[0]\n",
    "\n",
    "# Define GCN model\n",
    "class GCN(torch.nn.Module):\n",
    "    def __init__(self, input_dim, hidden_dim, output_dim):\n",
    "        super(GCN, self).__init__()\n",
    "        self.conv1 = GCNConv(input_dim, hidden_dim)\n",
    "        self.conv2 = GCNConv(hidden_dim, output_dim)\n",
    "\n",
    "    def forward(self, data):\n",
    "        x, edge_index = data.x, data.edge_index\n",
    "        x = self.conv1(x, edge_index)\n",
    "        x = F.relu(x)\n",
    "        x = self.conv2(x, edge_index)\n",
    "        return F.log_softmax(x, dim=1)\n",
    "\n",
    "# Initialize and load model\n",
    "device = torch.device('cuda' if torch.cuda.is_available() else 'cpu')\n",
    "model = GCN(input_dim=dataset.num_node_features, hidden_dim=16, output_dim=dataset.num_classes).to(device)\n",
    "data = data.to(device)\n",
    "optimizer = torch.optim.Adam(model.parameters(), lr=0.01, weight_decay=5e-4)\n",
    "\n",
    "# Training function\n",
    "def train():\n",
    "    model.train()\n",
    "    optimizer.zero_grad()\n",
    "    out = model(data)\n",
    "    loss = F.nll_loss(out[data.train_mask], data.y[data.train_mask])\n",
    "    loss.backward()\n",
    "    optimizer.step()\n",
    "    return loss.item()\n",
    "\n",
    "# Train model\n",
    "for epoch in range(200):\n",
    "    train()\n",
    "\n",
    "# Generate embeddings\n",
    "model.eval()\n",
    "with torch.no_grad():\n",
    "    embeddings = model(data).cpu().numpy()\n",
    "    labels = data.y.cpu().numpy()\n",
    "    train_mask = data.train_mask.cpu().numpy()\n",
    "    test_mask = data.test_mask.cpu().numpy()\n",
    "\n",
    "# Save embeddings and labels\n",
    "np.savez('embeddings.npz', embeddings=embeddings, labels=labels, train_mask=train_mask, test_mask=test_mask)\n",
    "print(\"Embeddings saved successfully.\")\n"
   ]
  },
  {
   "cell_type": "code",
   "execution_count": 2,
   "metadata": {},
   "outputs": [
    {
     "name": "stdout",
     "output_type": "stream",
     "text": [
      "Accuracy: 0.7450, Precision: 0.7882, Recall: 0.7450, F1-Score: 0.7495\n"
     ]
    }
   ],
   "source": [
    "import numpy as np\n",
    "from sklearn.ensemble import RandomForestClassifier\n",
    "from sklearn.metrics import accuracy_score, precision_score, recall_score, f1_score\n",
    "\n",
    "# Load embeddings\n",
    "data = np.load('embeddings.npz')\n",
    "embeddings = data['embeddings']\n",
    "labels = data['labels']\n",
    "train_mask = data['train_mask']\n",
    "test_mask = data['test_mask']\n",
    "\n",
    "# Train Random Forest\n",
    "rf_model = RandomForestClassifier(n_estimators=100, random_state=42)\n",
    "rf_model.fit(embeddings[train_mask], labels[train_mask])\n",
    "\n",
    "# Test and evaluate\n",
    "rf_preds = rf_model.predict(embeddings[test_mask])\n",
    "acc = accuracy_score(labels[test_mask], rf_preds)\n",
    "prec = precision_score(labels[test_mask], rf_preds, average='weighted')\n",
    "rec = recall_score(labels[test_mask], rf_preds, average='weighted')\n",
    "f1 = f1_score(labels[test_mask], rf_preds, average='weighted')\n",
    "\n",
    "print(f'Accuracy: {acc:.4f}, Precision: {prec:.4f}, Recall: {rec:.4f}, F1-Score: {f1:.4f}')"
   ]
  }
 ],
 "metadata": {
  "kernelspec": {
   "display_name": ".venv",
   "language": "python",
   "name": "python3"
  },
  "language_info": {
   "codemirror_mode": {
    "name": "ipython",
    "version": 3
   },
   "file_extension": ".py",
   "mimetype": "text/x-python",
   "name": "python",
   "nbconvert_exporter": "python",
   "pygments_lexer": "ipython3",
   "version": "3.10.11"
  }
 },
 "nbformat": 4,
 "nbformat_minor": 2
}
